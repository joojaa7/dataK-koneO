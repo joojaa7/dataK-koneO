{
 "cells": [
  {
   "cell_type": "code",
   "execution_count": 2,
   "metadata": {
    "collapsed": true
   },
   "outputs": [
    {
     "data": {
      "text/plain": "   Prod1  Prod2  Prod3  Prod4  Prod5  Prod6  Prod7  Prod8  Prod9  Prod10  \\\n0  False  False  False  False  False  False  False  False   True   False   \n1  False   True  False  False  False  False  False  False   True   False   \n2  False  False  False  False  False  False   True  False  False   False   \n3   True  False  False   True  False  False  False  False  False   False   \n4  False  False  False  False  False  False  False  False   True   False   \n\n   Prod11  Prod12  Prod13  Prod14  Prod15  Prod16  Prod17  Prod18  Prod19  \\\n0   False   False   False   False    True   False   False   False   False   \n1   False   False   False   False    True    True    True    True    True   \n2   False   False   False   False   False   False   False   False    True   \n3    True   False   False   False   False   False   False   False    True   \n4   False   False   False   False    True   False   False   False    True   \n\n   Prod20  \n0    True  \n1    True  \n2    True  \n3    True  \n4    True  ",
      "text/html": "<div>\n<style scoped>\n    .dataframe tbody tr th:only-of-type {\n        vertical-align: middle;\n    }\n\n    .dataframe tbody tr th {\n        vertical-align: top;\n    }\n\n    .dataframe thead th {\n        text-align: right;\n    }\n</style>\n<table border=\"1\" class=\"dataframe\">\n  <thead>\n    <tr style=\"text-align: right;\">\n      <th></th>\n      <th>Prod1</th>\n      <th>Prod2</th>\n      <th>Prod3</th>\n      <th>Prod4</th>\n      <th>Prod5</th>\n      <th>Prod6</th>\n      <th>Prod7</th>\n      <th>Prod8</th>\n      <th>Prod9</th>\n      <th>Prod10</th>\n      <th>Prod11</th>\n      <th>Prod12</th>\n      <th>Prod13</th>\n      <th>Prod14</th>\n      <th>Prod15</th>\n      <th>Prod16</th>\n      <th>Prod17</th>\n      <th>Prod18</th>\n      <th>Prod19</th>\n      <th>Prod20</th>\n    </tr>\n  </thead>\n  <tbody>\n    <tr>\n      <th>0</th>\n      <td>False</td>\n      <td>False</td>\n      <td>False</td>\n      <td>False</td>\n      <td>False</td>\n      <td>False</td>\n      <td>False</td>\n      <td>False</td>\n      <td>True</td>\n      <td>False</td>\n      <td>False</td>\n      <td>False</td>\n      <td>False</td>\n      <td>False</td>\n      <td>True</td>\n      <td>False</td>\n      <td>False</td>\n      <td>False</td>\n      <td>False</td>\n      <td>True</td>\n    </tr>\n    <tr>\n      <th>1</th>\n      <td>False</td>\n      <td>True</td>\n      <td>False</td>\n      <td>False</td>\n      <td>False</td>\n      <td>False</td>\n      <td>False</td>\n      <td>False</td>\n      <td>True</td>\n      <td>False</td>\n      <td>False</td>\n      <td>False</td>\n      <td>False</td>\n      <td>False</td>\n      <td>True</td>\n      <td>True</td>\n      <td>True</td>\n      <td>True</td>\n      <td>True</td>\n      <td>True</td>\n    </tr>\n    <tr>\n      <th>2</th>\n      <td>False</td>\n      <td>False</td>\n      <td>False</td>\n      <td>False</td>\n      <td>False</td>\n      <td>False</td>\n      <td>True</td>\n      <td>False</td>\n      <td>False</td>\n      <td>False</td>\n      <td>False</td>\n      <td>False</td>\n      <td>False</td>\n      <td>False</td>\n      <td>False</td>\n      <td>False</td>\n      <td>False</td>\n      <td>False</td>\n      <td>True</td>\n      <td>True</td>\n    </tr>\n    <tr>\n      <th>3</th>\n      <td>True</td>\n      <td>False</td>\n      <td>False</td>\n      <td>True</td>\n      <td>False</td>\n      <td>False</td>\n      <td>False</td>\n      <td>False</td>\n      <td>False</td>\n      <td>False</td>\n      <td>True</td>\n      <td>False</td>\n      <td>False</td>\n      <td>False</td>\n      <td>False</td>\n      <td>False</td>\n      <td>False</td>\n      <td>False</td>\n      <td>True</td>\n      <td>True</td>\n    </tr>\n    <tr>\n      <th>4</th>\n      <td>False</td>\n      <td>False</td>\n      <td>False</td>\n      <td>False</td>\n      <td>False</td>\n      <td>False</td>\n      <td>False</td>\n      <td>False</td>\n      <td>True</td>\n      <td>False</td>\n      <td>False</td>\n      <td>False</td>\n      <td>False</td>\n      <td>False</td>\n      <td>True</td>\n      <td>False</td>\n      <td>False</td>\n      <td>False</td>\n      <td>True</td>\n      <td>True</td>\n    </tr>\n  </tbody>\n</table>\n</div>"
     },
     "execution_count": 2,
     "metadata": {},
     "output_type": "execute_result"
    }
   ],
   "source": [
    "import pandas as pd\n",
    "from mlxtend.frequent_patterns import apriori\n",
    "from mlxtend.frequent_patterns import association_rules\n",
    "df = pd.read_csv('data/drone_prod_groups.csv', sep=',')\n",
    "\n",
    "# Data preprocessing\n",
    "df = df.drop(columns='ID')\n",
    "df = df.apply(lambda x: x.map(lambda y: True if y == 1 else False))\n",
    "df.head()"
   ]
  },
  {
   "cell_type": "code",
   "execution_count": 3,
   "outputs": [
    {
     "name": "stdout",
     "output_type": "stream",
     "text": [
      "    support            itemsets\n",
      "0   0.10998            ( Prod1)\n",
      "1   0.13098            ( Prod2)\n",
      "2   0.10459            ( Prod5)\n",
      "3   0.13499            ( Prod7)\n",
      "4   0.16179            ( Prod8)\n",
      "5   0.19853            ( Prod9)\n",
      "6   0.10848           ( Prod11)\n",
      "7   0.15971           ( Prod12)\n",
      "8   0.14557           ( Prod14)\n",
      "9   0.11880           ( Prod15)\n",
      "10  0.13100           ( Prod16)\n",
      "11  0.12166           ( Prod18)\n",
      "12  0.20626           ( Prod19)\n",
      "13  0.14798           ( Prod20)\n",
      "14  0.11145   ( Prod9,  Prod15)\n",
      "15  0.13476  ( Prod19,  Prod20)\n"
     ]
    }
   ],
   "source": [
    "freq = apriori(df, min_support=0.1, use_colnames=True)\n",
    "print(freq)"
   ],
   "metadata": {
    "collapsed": false
   }
  },
  {
   "cell_type": "code",
   "execution_count": 4,
   "outputs": [
    {
     "name": "stdout",
     "output_type": "stream",
     "text": [
      "  antecedents consequents  antecedent support  consequent support  support  \\\n",
      "0    ( Prod9)   ( Prod15)             0.19853             0.11880  0.11145   \n",
      "1   ( Prod15)    ( Prod9)             0.11880             0.19853  0.11145   \n",
      "2   ( Prod19)   ( Prod20)             0.20626             0.14798  0.13476   \n",
      "3   ( Prod20)   ( Prod19)             0.14798             0.20626  0.13476   \n",
      "\n",
      "   confidence      lift  representativity  leverage  conviction  \\\n",
      "0    0.561376  4.725388               1.0  0.087865    2.009011   \n",
      "1    0.938131  4.725388               1.0  0.087865   12.954372   \n",
      "2    0.653350  4.415125               1.0  0.104238    2.457869   \n",
      "3    0.910664  4.415125               1.0  0.104238    8.884845   \n",
      "\n",
      "   zhangs_metric   jaccard  certainty  kulczynski  \n",
      "0       0.983664  0.541335   0.502243    0.749754  \n",
      "1       0.894663  0.541335   0.922806    0.749754  \n",
      "2       0.974508  0.613997   0.593144    0.782007  \n",
      "3       0.907849  0.613997   0.887449    0.782007  \n"
     ]
    }
   ],
   "source": [
    "rules = association_rules(freq, metric='lift', min_threshold=0.5).sort_values(by='lift', ascending=False)\n",
    "print(rules)"
   ],
   "metadata": {
    "collapsed": false
   }
  },
  {
   "cell_type": "code",
   "execution_count": 4,
   "outputs": [],
   "source": [],
   "metadata": {
    "collapsed": false
   }
  }
 ],
 "metadata": {
  "kernelspec": {
   "display_name": "Python 3",
   "language": "python",
   "name": "python3"
  },
  "language_info": {
   "codemirror_mode": {
    "name": "ipython",
    "version": 2
   },
   "file_extension": ".py",
   "mimetype": "text/x-python",
   "name": "python",
   "nbconvert_exporter": "python",
   "pygments_lexer": "ipython2",
   "version": "2.7.6"
  }
 },
 "nbformat": 4,
 "nbformat_minor": 0
}
