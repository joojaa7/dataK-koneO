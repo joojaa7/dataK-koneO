{
 "cells": [
  {
   "cell_type": "markdown",
   "id": "2ce1c297",
   "metadata": {},
   "source": [
    "# Business understanding\n",
    "Goal is to construct a model implementing logistic regression in order to predict whether a property's house price of unit area (10000 New Taiwan Dollar/Pin, 1 Ping = 3.3 m^2) is above the mean price of the dataset."
   ]
  },
  {
   "cell_type": "markdown",
   "id": "bccb8bc2",
   "metadata": {},
   "source": [
    "Fetch the data"
   ]
  },
  {
   "cell_type": "code",
   "execution_count": 163,
   "id": "864dbdb3",
   "metadata": {
    "ExecuteTime": {
     "end_time": "2025-02-10T16:58:24.337359400Z",
     "start_time": "2025-02-10T16:58:22.336017400Z"
    }
   },
   "outputs": [],
   "source": [
    "import pandas as pd\n",
    "import numpy as np\n",
    "import matplotlib.pyplot as plt\n",
    "from sklearn.model_selection import train_test_split\n",
    "from sklearn.preprocessing import StandardScaler\n",
    "from sklearn.linear_model import LogisticRegression\n",
    "from sklearn.metrics import accuracy_score\n",
    "from ucimlrepo import fetch_ucirepo \n",
    "\n",
    "real_estate_valuation = fetch_ucirepo(id=477) \n",
    "\n",
    "X = real_estate_valuation.data.features.copy() \n",
    "y = real_estate_valuation.data.targets \n",
    "\n",
    "\n",
    "avg_price = y['Y house price of unit area'].mean()\n",
    "y.loc[:, 'Y house price of unit area'] = np.where(y['Y house price of unit area'] > avg_price, 1, 0)\n",
    "y = y['Y house price of unit area']"
   ]
  },
  {
   "cell_type": "markdown",
   "id": "d248d206-3806-46d7-9e3b-78c152834bf2",
   "metadata": {},
   "source": [
    "## Data Understanding\n",
    "\n",
    "### Dataset Overview\n",
    "The dataset used in this project comes from the UCI Machine Learning Repository, containing real estate valuation data from New Taipei City, Taiwan. It includes six features related to housing and one target variable (house price per unit area). \n",
    "\n",
    "### Data Sources\n",
    "- Dataset Name: Real Estate Valuation  \n",
    "- Region Covered: New Taipei City, Taiwan  \n",
    "- Number of Observations: 414  \n",
    "- Number of Features: 6  \n",
    "- Target Variable: `y` (house price per unit area)  \n",
    "\n",
    "### Feature Descriptions\n",
    "| Feature | Description | Data Type |\n",
    "|---|---|---|\n",
    "| `X1 transaction date` | The year and month the house was sold (continuous) | Numeric |\n",
    "| `X2 house age` | The age of the house in years (continuous) | Numeric |\n",
    "| `X3 distance to the nearest MRT station` | Distance to the closest metro station in meters (continuous) | Numeric |\n",
    "| `X4 number of convenience stores` | Number of nearby convenience stores (discrete) | Integer |\n",
    "| `X5 latitude` | Geographic latitude of the house (continuous) | Numeric |\n",
    "| `X6 longitude` | Geographic longitude of the house (continuous) | Numeric |\n",
    "\n",
    "There are no missing values and there are no egregious outliers."
   ]
  },
  {
   "cell_type": "markdown",
   "id": "793c52c1-cf6d-4b7a-80f6-7bdf770d363a",
   "metadata": {},
   "source": [
    "## Data Preparation\n",
    "\n",
    "### Preprocessing Steps\n",
    "Since the dataset does not contain missing values or obvious inconsistencies, minimal preprocessing was required. However, two key steps were performed to ensure the model receives properly formatted input data.\n",
    "\n",
    "Splitting the Data  \n",
    "    - The dataset was split into training and testing sets using `train_test_split` from `sklearn.model_selection`.\n",
    "    - The training set contains 70% of the data, while the testing set contains 30%.  \n",
    "    \n",
    "  \n",
    "Standardization  \n",
    "   - Features were standardized to have zero mean and unit variance using `StandardScaler` from `sklearn.preprocessing`.\n",
    "   - This transformation helps improve model performance by ensuring all features contribute equally, especially when they are on different scales."
   ]
  },
  {
   "cell_type": "markdown",
   "id": "079aba88",
   "metadata": {},
   "source": [
    "Converting all features to float"
   ]
  },
  {
   "cell_type": "code",
   "execution_count": 164,
   "id": "e8335d97",
   "metadata": {
    "scrolled": true,
    "ExecuteTime": {
     "end_time": "2025-02-10T16:58:24.352359700Z",
     "start_time": "2025-02-10T16:58:24.339359300Z"
    }
   },
   "outputs": [],
   "source": [
    "from sklearn.model_selection import train_test_split\n",
    "\n",
    "for col in X.columns.values:\n",
    "    if X[col].dtype != 'float64':\n",
    "        X[col] = X[col].astype(dtype='float64')\n",
    "\n",
    "# Splitting the data\n",
    "X_train, X_test, y_train, y_test = train_test_split(X, y, test_size=0.3, random_state=42)\n",
    "\n",
    "# Standardization\n",
    "scaler = StandardScaler()\n",
    "X_train = scaler.fit_transform(X_train)\n",
    "X_test = scaler.transform(X_test)"
   ]
  },
  {
   "cell_type": "markdown",
   "id": "341bc72c",
   "metadata": {},
   "source": [
    "## Modeling\n",
    "The logistic regression model is trained with the Limited-memory BFGS (lbfgs) as the solver algorithm which uses the L2 regularization to prevent overfitting.\\\n",
    "In logistic regression, the coefficients are not directly interpretable as feature importance, because the coefficients are transformed by the logistic function.\\\n",
    "The model is tested with the cross_val_scoret() function that generates cross-validated estimates for each input data point. And the accuracy of the model's predictions are ~84%."
   ]
  },
  {
   "cell_type": "code",
   "execution_count": 165,
   "id": "f97137a3-5437-46da-83ae-9f2bec129133",
   "metadata": {
    "ExecuteTime": {
     "end_time": "2025-02-10T16:58:24.396358700Z",
     "start_time": "2025-02-10T16:58:24.354363300Z"
    }
   },
   "outputs": [
    {
     "name": "stdout",
     "output_type": "stream",
     "text": [
      "[[ 0.21049086 -0.54956433 -2.55475202  0.56227936  1.20359401 -0.05317732]]\n",
      "Intercept:  [-0.46851706]\n"
     ]
    }
   ],
   "source": [
    "reg = LogisticRegression(solver='lbfgs')\n",
    "reg.fit(X_train, y_train) \n",
    "print(reg.coef_)\n",
    "print(\"Intercept: \", reg.intercept_)"
   ]
  },
  {
   "cell_type": "code",
   "execution_count": 166,
   "id": "ba3dcc4b",
   "metadata": {
    "ExecuteTime": {
     "end_time": "2025-02-10T16:58:24.457359200Z",
     "start_time": "2025-02-10T16:58:24.369364100Z"
    }
   },
   "outputs": [
    {
     "name": "stdout",
     "output_type": "stream",
     "text": [
      "Cross-validated accuracy during training: 0.85\n"
     ]
    }
   ],
   "source": [
    "from sklearn.model_selection import cross_val_score\n",
    "accuracy_train = cross_val_score(reg, X_train, y_train, cv=10, scoring=\"accuracy\").mean()\n",
    "print(\"Cross-validated accuracy during training: %0.2f\" % accuracy_train)"
   ]
  },
  {
   "cell_type": "markdown",
   "id": "18a49632-2bb1-4918-8bf7-6a5bb9fd4789",
   "metadata": {},
   "source": [
    "## Evaluation\n",
    "We've evaluated the model against unseen data using a confusion matrix that shows that the model incorrectly predicted the unit price to be above the mean in 19 cases and below the mean in 4 cases out of total 125 unseen cases, with 82% accuracy.\\\n",
    "The permutation importance illustrates the importance of a feature when predicting an outcome. In this case it seems that the distance to the nearest MRT station is the biggest factor while the other features' importances are near or at zero."
   ]
  },
  {
   "cell_type": "code",
   "execution_count": 167,
   "outputs": [
    {
     "name": "stdout",
     "output_type": "stream",
     "text": [
      "Accuracy on test set: 0.82\n"
     ]
    }
   ],
   "source": [
    "y_pred_test = reg.predict(X_test)\n",
    "accuracy_test = accuracy_score(y_test, y_pred_test)\n",
    "print(\"Accuracy on test set: %0.2f\" % accuracy_test)"
   ],
   "metadata": {
    "collapsed": false,
    "ExecuteTime": {
     "end_time": "2025-02-10T16:58:24.465359100Z",
     "start_time": "2025-02-10T16:58:24.431360Z"
    }
   },
   "id": "271e0d600e19e16a"
  },
  {
   "cell_type": "markdown",
   "source": [
    "Constructing the confusion matrix"
   ],
   "metadata": {
    "collapsed": false
   },
   "id": "26adfa08"
  },
  {
   "cell_type": "code",
   "execution_count": 168,
   "id": "0c016947",
   "metadata": {
    "ExecuteTime": {
     "end_time": "2025-02-10T16:58:24.553361300Z",
     "start_time": "2025-02-10T16:58:24.444360500Z"
    }
   },
   "outputs": [
    {
     "data": {
      "text/plain": "<Figure size 640x480 with 2 Axes>",
      "image/png": "[encoded data removed]"
     },
     "metadata": {},
     "output_type": "display_data"
    }
   ],
   "source": [
    "from sklearn.metrics import confusion_matrix, ConfusionMatrixDisplay\n",
    "cm = confusion_matrix(y_test, y_pred_test)\n",
    "\n",
    "cmd = ConfusionMatrixDisplay(cm, display_labels=['Class 0', 'Class 1'])\n",
    "\n",
    "fig, ax = plt.subplots()\n",
    "cmd.plot(cmap=plt.cm.Blues, ax=ax)\n",
    "\n",
    "ax.set_title('Confusion Matrix')\n",
    "\n",
    "plt.show()"
   ]
  },
  {
   "cell_type": "code",
   "execution_count": 169,
   "id": "fb651ceb-13f2-487f-9159-b75a81297907",
   "metadata": {
    "ExecuteTime": {
     "end_time": "2025-02-10T16:58:26.503359300Z",
     "start_time": "2025-02-10T16:58:24.555362100Z"
    }
   },
   "outputs": [
    {
     "data": {
      "text/plain": "<Figure size 640x480 with 1 Axes>",
      "image/png": "[encoded data removed]"
     },
     "metadata": {},
     "output_type": "display_data"
    }
   ],
   "source": [
    "# feature importance\n",
    "from sklearn.inspection import permutation_importance\n",
    "result = permutation_importance(reg, X_test, y_test, n_repeats=10, scoring=\"accuracy\", random_state=0, n_jobs=-1)\n",
    "sorted_idx = result.importances_mean.argsort()\n",
    "\n",
    "fig, ax = plt.subplots()\n",
    "ax.boxplot(result.importances[sorted_idx].T, vert=False, tick_labels=X.columns[sorted_idx])\n",
    "ax.set_title(\"Permutation Importance\")\n",
    "fig.tight_layout()\n",
    "plt.show()"
   ]
  },
  {
   "cell_type": "markdown",
   "id": "20280d88-e313-46ec-b944-a9933b73a3e1",
   "metadata": {},
   "source": [
    "## Deployment\n",
    "The practical use of this model is limited. Predicting whether a house's price of unit area is above or below the mean is more intuitively done by knowing the actual price and size of the house.\\\n",
    "The model could be used to predict the desirability of a house to more accurately appraise it's value compared to other similar sized houses.\\\n",
    "A practical application could utilize an interactive prediction like the one shown below to predict the probability of a house being above the mean of the dataset."
   ]
  },
  {
   "cell_type": "code",
   "execution_count": null,
   "id": "41523e2f",
   "metadata": {},
   "outputs": [],
   "source": [
    "# interactive prediction\n",
    "features=['X1 transaction date', 'X2 house age', 'X3 distance to the nearest MRT station', 'X4 number of convenience stores', 'X5 latitude', 'X6 longitude']\n",
    "Xi = pd.DataFrame(columns=features)\n",
    "\n",
    "# read input data\n",
    "for f in features:\n",
    "    val = input(f\"Enter value for feature: {f}\")\n",
    "    Xi[f] = [float(val)]\n",
    "\n",
    "# get probability estimate\n",
    "Xi = pd.DataFrame(scaler.transform(Xi.values), columns=Xi.columns)\n",
    "p = reg.predict_proba(Xi.values)[:,1]\n",
    "\n",
    "# output\n",
    "print(\"Probability : %0.2f\" % p[0])"
   ]
  }
 ],
 "metadata": {
  "kernelspec": {
   "display_name": "Python 3 (ipykernel)",
   "language": "python",
   "name": "python3"
  },
  "language_info": {
   "codemirror_mode": {
    "name": "ipython",
    "version": 3
   },
   "file_extension": ".py",
   "mimetype": "text/x-python",
   "name": "python",
   "nbconvert_exporter": "python",
   "pygments_lexer": "ipython3",
   "version": "3.9.13"
  }
 },
 "nbformat": 4,
 "nbformat_minor": 5
}
