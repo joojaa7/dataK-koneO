{
 "cells": [
  {
   "cell_type": "code",
   "execution_count": 3,
   "outputs": [
    {
     "data": {
      "text/plain": "   ID  Weight  Smoking Exercise Cholesterol Income  Happiness BirthYear Sex\n0   1    75.0      0.0        3         5,8   3230       59.0      1964   1\n1   2    70.0      0.0        6         5,9   1420       43.0      1952   1\n2   3    76.0      0.0        6           6   4930       74.0      1951   1\n3   4    62.0      0.0        8         4,7   2970       58.0      1959   1\n4   5    44.0      0.0        8         4,3   4780       64.0      1925   1",
      "text/html": "<div>\n<style scoped>\n    .dataframe tbody tr th:only-of-type {\n        vertical-align: middle;\n    }\n\n    .dataframe tbody tr th {\n        vertical-align: top;\n    }\n\n    .dataframe thead th {\n        text-align: right;\n    }\n</style>\n<table border=\"1\" class=\"dataframe\">\n  <thead>\n    <tr style=\"text-align: right;\">\n      <th></th>\n      <th>ID</th>\n      <th>Weight</th>\n      <th>Smoking</th>\n      <th>Exercise</th>\n      <th>Cholesterol</th>\n      <th>Income</th>\n      <th>Happiness</th>\n      <th>BirthYear</th>\n      <th>Sex</th>\n    </tr>\n  </thead>\n  <tbody>\n    <tr>\n      <th>0</th>\n      <td>1</td>\n      <td>75.0</td>\n      <td>0.0</td>\n      <td>3</td>\n      <td>5,8</td>\n      <td>3230</td>\n      <td>59.0</td>\n      <td>1964</td>\n      <td>1</td>\n    </tr>\n    <tr>\n      <th>1</th>\n      <td>2</td>\n      <td>70.0</td>\n      <td>0.0</td>\n      <td>6</td>\n      <td>5,9</td>\n      <td>1420</td>\n      <td>43.0</td>\n      <td>1952</td>\n      <td>1</td>\n    </tr>\n    <tr>\n      <th>2</th>\n      <td>3</td>\n      <td>76.0</td>\n      <td>0.0</td>\n      <td>6</td>\n      <td>6</td>\n      <td>4930</td>\n      <td>74.0</td>\n      <td>1951</td>\n      <td>1</td>\n    </tr>\n    <tr>\n      <th>3</th>\n      <td>4</td>\n      <td>62.0</td>\n      <td>0.0</td>\n      <td>8</td>\n      <td>4,7</td>\n      <td>2970</td>\n      <td>58.0</td>\n      <td>1959</td>\n      <td>1</td>\n    </tr>\n    <tr>\n      <th>4</th>\n      <td>5</td>\n      <td>44.0</td>\n      <td>0.0</td>\n      <td>8</td>\n      <td>4,3</td>\n      <td>4780</td>\n      <td>64.0</td>\n      <td>1925</td>\n      <td>1</td>\n    </tr>\n  </tbody>\n</table>\n</div>"
     },
     "execution_count": 3,
     "metadata": {},
     "output_type": "execute_result"
    }
   ],
   "source": [
    "import numpy as np\n",
    "import pandas as pd\n",
    "# /Data kansio projektin juureen\n",
    "df = pd.read_csv('../Data/health.csv', sep=';')\n",
    "df.head()"
   ],
   "metadata": {
    "collapsed": false
   }
  },
  {
   "cell_type": "code",
   "execution_count": null,
   "outputs": [],
   "source": [],
   "metadata": {
    "collapsed": false
   }
  }
 ],
 "metadata": {
  "kernelspec": {
   "display_name": "Python 3",
   "language": "python",
   "name": "python3"
  },
  "language_info": {
   "codemirror_mode": {
    "name": "ipython",
    "version": 2
   },
   "file_extension": ".py",
   "mimetype": "text/x-python",
   "name": "python",
   "nbconvert_exporter": "python",
   "pygments_lexer": "ipython2",
   "version": "2.7.6"
  }
 },
 "nbformat": 4,
 "nbformat_minor": 0
}
